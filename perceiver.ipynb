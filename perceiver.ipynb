{
 "cells": [
  {
   "cell_type": "markdown",
   "metadata": {},
   "source": [
    "# Perceiver Experiments"
   ]
  },
  {
   "cell_type": "code",
   "execution_count": null,
   "metadata": {},
   "outputs": [],
   "source": [
    "# Imports\n",
    "\n",
    "from transformers import (\n",
    "    PerceiverModel,\n",
    "    PerceiverConfig,\n",
    ")\n",
    "from transformers.models.perceiver.modeling_perceiver import PerceiverBasicDecoder\n",
    "\n",
    "from torch import nn, optim\n",
    "\n",
    "from dataloader import xrd_dataloader"
   ]
  },
  {
   "cell_type": "code",
   "execution_count": null,
   "metadata": {},
   "outputs": [],
   "source": [
    "# Set up model\n",
    "\n",
    "config = PerceiverConfig(d_model=10000)\n",
    "decoder = PerceiverBasicDecoder(\n",
    "    config,\n",
    "    num_channels=config.d_latents,\n",
    "    output_num_channels=10000,\n",
    "    final_project=True,\n",
    "    trainable_position_encoding_kwargs={\n",
    "        \"num_channels\": config.d_latents,\n",
    "        \"index_dims\": 1,\n",
    "    },\n",
    ")\n",
    "model = PerceiverModel(config, decoder=decoder)"
   ]
  },
  {
   "cell_type": "code",
   "execution_count": null,
   "metadata": {},
   "outputs": [],
   "source": [
    "# Define loss\n",
    "\n",
    "mse_loss = nn.MSELoss()"
   ]
  },
  {
   "cell_type": "code",
   "execution_count": null,
   "metadata": {},
   "outputs": [],
   "source": [
    "def train_model(num_epochs=100):\n",
    "    outputs = []\n",
    "    optimizer = optim.Adam(model.parameters(), lr=0.001, weight_decay=1e-5)\n",
    "    for epoch in range(num_epochs):\n",
    "        for data in xrd_dataloader:\n",
    "            data = data.float()\n",
    "            # data = data.to(device)\n",
    "            # ===================forward=====================\n",
    "            output = model(inputs=data)\n",
    "            loss = mse_loss(output.logits, data)\n",
    "            # ===================backward====================\n",
    "            optimizer.zero_grad()\n",
    "            loss.backward()\n",
    "            optimizer.step()\n",
    "\n",
    "        print('epoch [{}/{}], loss:{:.4f}'.format(epoch + 1, num_epochs, loss.item()))\n",
    "        outputs.append((epoch, data, output))"
   ]
  },
  {
   "cell_type": "code",
   "execution_count": null,
   "metadata": {},
   "outputs": [],
   "source": [
    "# Train the model\n",
    "\n",
    "model.train(True)\n",
    "train_model(num_epochs=1)\n",
    "model.train(False)"
   ]
  },
  {
   "cell_type": "code",
   "execution_count": null,
   "metadata": {},
   "outputs": [],
   "source": []
  }
 ],
 "metadata": {
  "kernelspec": {
   "display_name": "Python 3.10.8 ('dev')",
   "language": "python",
   "name": "python3"
  },
  "language_info": {
   "codemirror_mode": {
    "name": "ipython",
    "version": 3
   },
   "file_extension": ".py",
   "mimetype": "text/x-python",
   "name": "python",
   "nbconvert_exporter": "python",
   "pygments_lexer": "ipython3",
   "version": "3.10.8"
  },
  "orig_nbformat": 4,
  "vscode": {
   "interpreter": {
    "hash": "248aaaef2ce54d580c63d0621ea4262f68d22105863a800468921850ea527b06"
   }
  }
 },
 "nbformat": 4,
 "nbformat_minor": 2
}
