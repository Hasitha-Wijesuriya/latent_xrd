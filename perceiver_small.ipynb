{
 "cells": [
  {
   "cell_type": "code",
   "execution_count": 3,
   "metadata": {
    "collapsed": false
   },
   "outputs": [],
   "source": [
    "import torch\n",
    "\n",
    "from perceiver.model.core import (\n",
    "    PerceiverDecoder,\n",
    "    PerceiverEncoder,\n",
    "    PerceiverIO\n",
    ")\n",
    "\n",
    "from perceiver.model.core.classifier import ClassificationOutputAdapter\n",
    "from perceiver.model.core.adapter import TrainableQueryProvider\n",
    "\n",
    "from perceiver.model.vision.image_classifier import ImageInputAdapter\n",
    "\n",
    "from torch import nn, optim\n",
    "\n",
    "from dataloader import xrd_dataloader\n",
    "%load_ext autoreload"
   ]
  },
  {
   "cell_type": "code",
   "execution_count": 4,
   "metadata": {
    "collapsed": true
   },
   "outputs": [
    {
     "name": "stdout",
     "output_type": "stream",
     "text": [
      "number of parameters:  17135010\n"
     ]
    }
   ],
   "source": [
    "from perceiver.model.core import (\n",
    "    PerceiverDecoder,\n",
    "    PerceiverEncoder,\n",
    "    PerceiverIO\n",
    ")\n",
    "\n",
    "from perceiver.model.core.classifier import ClassificationOutputAdapter\n",
    "from perceiver.model.core.adapter import TrainableQueryProvider\n",
    "\n",
    "from perceiver.model.vision.image_classifier import ImageInputAdapter\n",
    "\n",
    "\n",
    "# Fourier-encodes pixel positions and flatten along spatial dimensions\n",
    "input_adapter = ImageInputAdapter(\n",
    "  image_shape=(10000, 1),  # M = 224 * 224\n",
    "  num_frequency_bands=64,\n",
    ")\n",
    "\n",
    "# Projects generic Perceiver decoder output to specified number of classes\n",
    "output_adapter = ClassificationOutputAdapter(\n",
    "  num_classes=10000,\n",
    "  num_output_query_channels=512,  # F\n",
    ")\n",
    "\n",
    "# Generic Perceiver encoder\n",
    "encoder = PerceiverEncoder(\n",
    "  input_adapter=input_adapter,\n",
    "  num_latents=512,  # N\n",
    "  num_latent_channels=512,  # D changed from 1028\n",
    "  num_cross_attention_qk_channels=input_adapter.num_input_channels,  # C\n",
    "  num_cross_attention_heads=1,\n",
    "  num_self_attention_heads=8,\n",
    "  num_self_attention_layers_per_block=6,\n",
    "  num_self_attention_blocks=8,\n",
    "  dropout=0.0,\n",
    ")\n",
    "\n",
    "query_provider = TrainableQueryProvider(1, 512) # very arbitrary!\n",
    "\n",
    "# Generic Perceiver decoder\n",
    "decoder = PerceiverDecoder(\n",
    "  output_adapter=output_adapter,\n",
    "  output_query_provider=query_provider,\n",
    "  num_latent_channels=512,  # D\n",
    "  num_cross_attention_heads=1,\n",
    "  dropout=0.0,\n",
    ")\n",
    "\n",
    "# Perceiver IO image classifier\n",
    "mse_loss = nn.MSELoss()\n",
    "model = PerceiverIO(encoder, decoder)\n",
    "\n",
    "print('number of parameters: ', sum(p.numel() for p in model.parameters()))\n"
   ]
  },
  {
   "cell_type": "code",
   "execution_count": 8,
   "metadata": {
    "collapsed": false
   },
   "outputs": [],
   "source": [
    "\n",
    "for item in xrd_dataloader:\n",
    "  batch = item.reshape(32, 10000, 1)\n",
    "  break"
   ]
  },
  {
   "cell_type": "code",
   "execution_count": 9,
   "metadata": {
    "collapsed": false
   },
   "outputs": [],
   "source": [
    "out = model(batch.bfloat16())"
   ]
  },
  {
   "cell_type": "code",
   "execution_count": 10,
   "metadata": {
    "collapsed": false
   },
   "outputs": [
    {
     "data": {
      "text/plain": [
       "torch.Size([32, 10000])"
      ]
     },
     "execution_count": 10,
     "metadata": {},
     "output_type": "execute_result"
    }
   ],
   "source": [
    "out.shape"
   ]
  },
  {
   "cell_type": "code",
   "execution_count": 6,
   "metadata": {
    "collapsed": false
   },
   "outputs": [
    {
     "name": "stdout",
     "output_type": "stream",
     "text": [
      "Finished batch 0 in epoch 1. Loss: 18.4822\n",
      "Finished batch 5 in epoch 1. Loss: 9.4643\n",
      "Finished batch 10 in epoch 1. Loss: 11.5769\n",
      "Finished batch 15 in epoch 1. Loss: 11.0763\n",
      "Finished batch 20 in epoch 1. Loss: 22.1717\n",
      "Finished batch 25 in epoch 1. Loss: 11.4644\n"
     ]
    },
    {
     "ename": "KeyboardInterrupt",
     "evalue": "",
     "output_type": "error",
     "traceback": [
      "\u001B[0;31m---------------------------------------------------------------------------\u001B[0m",
      "\u001B[0;31mKeyboardInterrupt\u001B[0m                         Traceback (most recent call last)",
      "Cell \u001B[0;32mIn[6], line 28\u001B[0m\n\u001B[1;32m     25\u001B[0m \u001B[38;5;66;03m# Train the model\u001B[39;00m\n\u001B[1;32m     27\u001B[0m model\u001B[38;5;241m.\u001B[39mtrain(\u001B[38;5;28;01mTrue\u001B[39;00m)\n\u001B[0;32m---> 28\u001B[0m \u001B[43mtrain_model\u001B[49m\u001B[43m(\u001B[49m\u001B[43mnum_epochs\u001B[49m\u001B[38;5;241;43m=\u001B[39;49m\u001B[38;5;241;43m1\u001B[39;49m\u001B[43m)\u001B[49m\n\u001B[1;32m     29\u001B[0m model\u001B[38;5;241m.\u001B[39mtrain(\u001B[38;5;28;01mFalse\u001B[39;00m)\n",
      "Cell \u001B[0;32mIn[6], line 14\u001B[0m, in \u001B[0;36mtrain_model\u001B[0;34m(num_epochs)\u001B[0m\n\u001B[1;32m     12\u001B[0m \u001B[38;5;66;03m# ===================backward====================\u001B[39;00m\n\u001B[1;32m     13\u001B[0m optimizer\u001B[38;5;241m.\u001B[39mzero_grad()\n\u001B[0;32m---> 14\u001B[0m \u001B[43mloss\u001B[49m\u001B[38;5;241;43m.\u001B[39;49m\u001B[43mbackward\u001B[49m\u001B[43m(\u001B[49m\u001B[43m)\u001B[49m\n\u001B[1;32m     15\u001B[0m optimizer\u001B[38;5;241m.\u001B[39mstep()\n\u001B[1;32m     17\u001B[0m \u001B[38;5;28;01mif\u001B[39;00m idx \u001B[38;5;241m%\u001B[39m \u001B[38;5;241m5\u001B[39m \u001B[38;5;241m==\u001B[39m \u001B[38;5;241m0\u001B[39m:\n",
      "File \u001B[0;32m~/miniconda3/envs/latent_xrd/lib/python3.9/site-packages/torch/_tensor.py:396\u001B[0m, in \u001B[0;36mTensor.backward\u001B[0;34m(self, gradient, retain_graph, create_graph, inputs)\u001B[0m\n\u001B[1;32m    387\u001B[0m \u001B[38;5;28;01mif\u001B[39;00m has_torch_function_unary(\u001B[38;5;28mself\u001B[39m):\n\u001B[1;32m    388\u001B[0m     \u001B[38;5;28;01mreturn\u001B[39;00m handle_torch_function(\n\u001B[1;32m    389\u001B[0m         Tensor\u001B[38;5;241m.\u001B[39mbackward,\n\u001B[1;32m    390\u001B[0m         (\u001B[38;5;28mself\u001B[39m,),\n\u001B[0;32m   (...)\u001B[0m\n\u001B[1;32m    394\u001B[0m         create_graph\u001B[38;5;241m=\u001B[39mcreate_graph,\n\u001B[1;32m    395\u001B[0m         inputs\u001B[38;5;241m=\u001B[39minputs)\n\u001B[0;32m--> 396\u001B[0m \u001B[43mtorch\u001B[49m\u001B[38;5;241;43m.\u001B[39;49m\u001B[43mautograd\u001B[49m\u001B[38;5;241;43m.\u001B[39;49m\u001B[43mbackward\u001B[49m\u001B[43m(\u001B[49m\u001B[38;5;28;43mself\u001B[39;49m\u001B[43m,\u001B[49m\u001B[43m \u001B[49m\u001B[43mgradient\u001B[49m\u001B[43m,\u001B[49m\u001B[43m \u001B[49m\u001B[43mretain_graph\u001B[49m\u001B[43m,\u001B[49m\u001B[43m \u001B[49m\u001B[43mcreate_graph\u001B[49m\u001B[43m,\u001B[49m\u001B[43m \u001B[49m\u001B[43minputs\u001B[49m\u001B[38;5;241;43m=\u001B[39;49m\u001B[43minputs\u001B[49m\u001B[43m)\u001B[49m\n",
      "File \u001B[0;32m~/miniconda3/envs/latent_xrd/lib/python3.9/site-packages/torch/autograd/__init__.py:173\u001B[0m, in \u001B[0;36mbackward\u001B[0;34m(tensors, grad_tensors, retain_graph, create_graph, grad_variables, inputs)\u001B[0m\n\u001B[1;32m    168\u001B[0m     retain_graph \u001B[38;5;241m=\u001B[39m create_graph\n\u001B[1;32m    170\u001B[0m \u001B[38;5;66;03m# The reason we repeat same the comment below is that\u001B[39;00m\n\u001B[1;32m    171\u001B[0m \u001B[38;5;66;03m# some Python versions print out the first line of a multi-line function\u001B[39;00m\n\u001B[1;32m    172\u001B[0m \u001B[38;5;66;03m# calls in the traceback and some print out the last line\u001B[39;00m\n\u001B[0;32m--> 173\u001B[0m \u001B[43mVariable\u001B[49m\u001B[38;5;241;43m.\u001B[39;49m\u001B[43m_execution_engine\u001B[49m\u001B[38;5;241;43m.\u001B[39;49m\u001B[43mrun_backward\u001B[49m\u001B[43m(\u001B[49m\u001B[43m  \u001B[49m\u001B[38;5;66;43;03m# Calls into the C++ engine to run the backward pass\u001B[39;49;00m\n\u001B[1;32m    174\u001B[0m \u001B[43m    \u001B[49m\u001B[43mtensors\u001B[49m\u001B[43m,\u001B[49m\u001B[43m \u001B[49m\u001B[43mgrad_tensors_\u001B[49m\u001B[43m,\u001B[49m\u001B[43m \u001B[49m\u001B[43mretain_graph\u001B[49m\u001B[43m,\u001B[49m\u001B[43m \u001B[49m\u001B[43mcreate_graph\u001B[49m\u001B[43m,\u001B[49m\u001B[43m \u001B[49m\u001B[43minputs\u001B[49m\u001B[43m,\u001B[49m\n\u001B[1;32m    175\u001B[0m \u001B[43m    \u001B[49m\u001B[43mallow_unreachable\u001B[49m\u001B[38;5;241;43m=\u001B[39;49m\u001B[38;5;28;43;01mTrue\u001B[39;49;00m\u001B[43m,\u001B[49m\u001B[43m \u001B[49m\u001B[43maccumulate_grad\u001B[49m\u001B[38;5;241;43m=\u001B[39;49m\u001B[38;5;28;43;01mTrue\u001B[39;49;00m\u001B[43m)\u001B[49m\n",
      "\u001B[0;31mKeyboardInterrupt\u001B[0m: "
     ]
    }
   ],
   "source": [
    "def train_model(num_epochs=100):\n",
    "    outputs = []\n",
    "    optimizer = optim.Adam(model.parameters(), lr=0.001, weight_decay=1e-5)\n",
    "    for epoch in range(num_epochs):\n",
    "        for idx, data in enumerate(xrd_dataloader):\n",
    "            data = data.reshape(2, 10000, 1)\n",
    "            data = data.float()\n",
    "            # data = data.to(device)\n",
    "            # ===================forward=====================\n",
    "            output = model(data)\n",
    "            loss = mse_loss(output, data.squeeze())\n",
    "            # ===================backward====================\n",
    "            optimizer.zero_grad()\n",
    "            loss.backward()\n",
    "            optimizer.step()\n",
    "\n",
    "            if idx % 5 == 0:\n",
    "                print(f\"Finished batch {idx} in epoch {epoch + 1}. Loss: {loss.item():.4f}\")\n",
    "\n",
    "        print('epoch [{}/{}], loss:{:.4f}'.format(epoch + 1, num_epochs, loss.item()))\n",
    "        outputs.append((epoch, data, output))\n",
    "\n",
    "\n",
    "\n",
    "# Train the model\n",
    "\n",
    "model.train(True)\n",
    "train_model(num_epochs=1)\n",
    "model.train(False)"
   ]
  },
  {
   "cell_type": "code",
   "execution_count": null,
   "outputs": [],
   "source": [],
   "metadata": {
    "collapsed": false
   }
  }
 ],
 "metadata": {
  "kernelspec": {
   "display_name": "Python 3.8.5 ('base')",
   "language": "python",
   "name": "python3"
  },
  "language_info": {
   "codemirror_mode": {
    "name": "ipython",
    "version": 3
   },
   "file_extension": ".py",
   "mimetype": "text/x-python",
   "name": "python",
   "nbconvert_exporter": "python",
   "pygments_lexer": "ipython3",
   "version": "3.8.5"
  },
  "vscode": {
   "interpreter": {
    "hash": "3bcfd8c9c2178bc10480299b9d42b0f54ba0029d8088a29bf99234386d54d7a5"
   }
  }
 },
 "nbformat": 4,
 "nbformat_minor": 0
}
